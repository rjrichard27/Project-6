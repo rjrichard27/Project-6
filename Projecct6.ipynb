{
  "nbformat": 4,
  "nbformat_minor": 0,
  "metadata": {
    "colab": {
      "name": "Projecct6.ipynb",
      "provenance": [],
      "authorship_tag": "ABX9TyMLwOlNVdH60TMu2D+q0ujp",
      "include_colab_link": true
    },
    "kernelspec": {
      "name": "python3",
      "display_name": "Python 3"
    },
    "language_info": {
      "name": "python"
    }
  },
  "cells": [
    {
      "cell_type": "markdown",
      "metadata": {
        "id": "view-in-github",
        "colab_type": "text"
      },
      "source": [
        "<a href=\"https://colab.research.google.com/github/rjrichard27/Project-6/blob/main/Projecct6.ipynb\" target=\"_parent\"><img src=\"https://colab.research.google.com/assets/colab-badge.svg\" alt=\"Open In Colab\"/></a>"
      ]
    },
    {
      "cell_type": "markdown",
      "metadata": {
        "id": "zQVHbfnlCd4h"
      },
      "source": [
        "## Ingest Data"
      ]
    },
    {
      "cell_type": "markdown",
      "metadata": {
        "id": "gGrYfil6Cvll"
      },
      "source": [
        "This code downloads *The Bell Jar* by Slyvia Plat."
      ]
    },
    {
      "cell_type": "code",
      "metadata": {
        "colab": {
          "base_uri": "https://localhost:8080/"
        },
        "id": "-K6ObvZlCU5K",
        "outputId": "f19d8b54-a804-49bd-90e8-d05e7f219b07"
      },
      "source": [
        "!wget https://raw.githubusercontent.com/rjrichard27/Project-6/main/TheBellJar.txt"
      ],
      "execution_count": 1,
      "outputs": [
        {
          "output_type": "stream",
          "name": "stdout",
          "text": [
            "--2021-09-15 20:00:36--  https://raw.githubusercontent.com/rjrichard27/Project-6/main/TheBellJar.txt\n",
            "Resolving raw.githubusercontent.com (raw.githubusercontent.com)... 185.199.108.133, 185.199.109.133, 185.199.110.133, ...\n",
            "Connecting to raw.githubusercontent.com (raw.githubusercontent.com)|185.199.108.133|:443... connected.\n",
            "HTTP request sent, awaiting response... 200 OK\n",
            "Length: 375977 (367K) [text/plain]\n",
            "Saving to: ‘TheBellJar.txt’\n",
            "\n",
            "TheBellJar.txt      100%[===================>] 367.17K  --.-KB/s    in 0.04s   \n",
            "\n",
            "2021-09-15 20:00:37 (8.32 MB/s) - ‘TheBellJar.txt’ saved [375977/375977]\n",
            "\n"
          ]
        }
      ]
    },
    {
      "cell_type": "code",
      "metadata": {
        "colab": {
          "base_uri": "https://localhost:8080/"
        },
        "id": "YdeRWD13DORy",
        "outputId": "f08bc555-3db1-49da-b761-3c7860d3f432"
      },
      "source": [
        "!head TheBellJar.txt"
      ],
      "execution_count": 2,
      "outputs": [
        {
          "output_type": "stream",
          "name": "stdout",
          "text": [
            "Chapter One\n",
            "\n",
            "It was a queer, sultry summer, the summer they electrocuted the\n",
            "Rosenbergs, and I didn't know what I was doing in New York.  I'm stupid\n",
            "about executions.  The idea of being electrocuted makes me sick, and\n",
            "that's all there was to read about in the papers--goggle-eyed headlines\n",
            "staring up at me on every street corner and at the fusty,\n",
            "peanut-smelling mouth of every subway.  It had nothing to do with me,\n",
            "but I couldn't help wondering what it would be like, being burned alive\n",
            "all along your nerves.\n"
          ]
        }
      ]
    }
  ]
}